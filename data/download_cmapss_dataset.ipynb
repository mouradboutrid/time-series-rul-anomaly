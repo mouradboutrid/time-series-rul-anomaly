{
 "cells": [
  {
   "cell_type": "code",
   "execution_count": null,
   "id": "e566eea9",
   "metadata": {},
   "outputs": [],
   "source": [
    "import os\n",
    "import requests\n",
    "import zipfile\n",
    "\n",
    "def download_and_extract_cmapss(data_dir=\"data\"):\n",
    "    url = \"https://data.nasa.gov/download/xaut-bemn/application%2Fzip\"\n",
    "    zip_path = os.path.join(data_dir, \"CMAPSSData.zip\")\n",
    "\n",
    "    os.makedirs(data_dir, exist_ok=True)\n",
    "\n",
    "    # Download the file\n",
    "    print(\"Downloading CMAPSS dataset...\")\n",
    "    with requests.get(url, stream=True) as r:\n",
    "        r.raise_for_status()\n",
    "        with open(zip_path, 'wb') as f:\n",
    "            for chunk in r.iter_content(chunk_size=8192):\n",
    "                f.write(chunk)\n",
    "    print(\"Download complete.\")\n",
    "\n",
    "    # Extract the zip file\n",
    "    print(\"Extracting...\")\n",
    "    with zipfile.ZipFile(zip_path, 'r') as zip_ref:\n",
    "        zip_ref.extractall(data_dir)\n",
    "    print(\"Extraction complete.\")\n",
    "\n",
    "    # Optional: remove the zip file after extraction\n",
    "    os.remove(zip_path)\n",
    "    print(f\"CMAPSS dataset is ready in '{data_dir}/'\")\n",
    "\n",
    "# Run it\n",
    "download_and_extract_cmapss()\n"
   ]
  }
 ],
 "metadata": {
  "kernelspec": {
   "display_name": "Python 3 (ipykernel)",
   "language": "python",
   "name": "python3"
  },
  "language_info": {
   "codemirror_mode": {
    "name": "ipython",
    "version": 3
   },
   "file_extension": ".py",
   "mimetype": "text/x-python",
   "name": "python",
   "nbconvert_exporter": "python",
   "pygments_lexer": "ipython3",
   "version": "3.11.5"
  }
 },
 "nbformat": 4,
 "nbformat_minor": 5
}
